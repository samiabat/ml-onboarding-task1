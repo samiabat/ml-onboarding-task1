{
  "cells": [
    {
      "cell_type": "markdown",
      "metadata": {
        "id": "view-in-github",
        "colab_type": "text"
      },
      "source": [
        "<a href=\"https://colab.research.google.com/github/samiabat/ml-onboarding-task1/blob/main/Checkpoints.ipynb\" target=\"_parent\"><img src=\"https://colab.research.google.com/assets/colab-badge.svg\" alt=\"Open In Colab\"/></a>"
      ]
    },
    {
      "cell_type": "markdown",
      "id": "70d68298",
      "metadata": {
        "id": "70d68298"
      },
      "source": [
        "# Checkpoints"
      ]
    },
    {
      "cell_type": "markdown",
      "id": "67d0260a",
      "metadata": {
        "id": "67d0260a"
      },
      "source": [
        "**CP1**:\n",
        "Given the list $[A, B, C]$, use the `itertools` module to generate all possible\n",
        "combinations of 2 elements.\n",
        "\n",
        "**Expected Output**:\n",
        "$$\n",
        " (A, B) \\\\\n",
        " (A, C) \\\\\n",
        " (B, C)\n",
        "$$"
      ]
    },
    {
      "cell_type": "code",
      "execution_count": null,
      "id": "9dd63d67",
      "metadata": {
        "id": "9dd63d67",
        "colab": {
          "base_uri": "https://localhost:8080/"
        },
        "outputId": "dfc32b04-1a8b-42b4-e313-92aae51b9e00"
      },
      "outputs": [
        {
          "output_type": "stream",
          "name": "stdout",
          "text": [
            "[('A', 'B'), ('A', 'C'), ('B', 'C')]\n"
          ]
        }
      ],
      "source": [
        "#your code here\n",
        "from itertools import combinations\n",
        "\n",
        "elements = ['A', 'B', 'C']\n",
        "combs = list(combinations(elements, 2))\n",
        "\n",
        "print(combs)"
      ]
    },
    {
      "cell_type": "markdown",
      "id": "31c15dce",
      "metadata": {
        "id": "31c15dce"
      },
      "source": [
        "**CP2**:\n",
        "Use the `itertools` module to create a sequence that cycles through\n",
        "['Python', 'is', 'fun'] infinitely. Print the first 10 elements of the sequence.\n",
        "\n",
        "**Expected Output**:\n",
        "$$\n",
        "Python \\\\\n",
        "is\\\\\n",
        "fun\\\\\n",
        "Python\\\\\n",
        "is\\\\\n",
        "fun\\\\\n",
        "Python\\\\\n",
        "is\\\\\n",
        "fun\\\\\n",
        "Python\n",
        "$$"
      ]
    },
    {
      "cell_type": "code",
      "execution_count": null,
      "id": "c75f246c",
      "metadata": {
        "id": "c75f246c",
        "colab": {
          "base_uri": "https://localhost:8080/"
        },
        "outputId": "b3c1be7a-f4a6-401d-ec7f-0ae3b637215d"
      },
      "outputs": [
        {
          "output_type": "stream",
          "name": "stdout",
          "text": [
            "Python\n",
            "is\n",
            "fun\n",
            "Python\n",
            "is\n",
            "fun\n",
            "Python\n",
            "is\n",
            "fun\n",
            "Python\n"
          ]
        }
      ],
      "source": [
        "#your code here\n",
        "import itertools\n",
        "lst =  ['Python', 'is', 'fun']\n",
        "squence  = itertools.cycle(lst)\n",
        "\n",
        "for _ in range(10):\n",
        "  print(next(squence))\n"
      ]
    },
    {
      "cell_type": "markdown",
      "id": "cbef0f63",
      "metadata": {
        "id": "cbef0f63"
      },
      "source": [
        "**CP3**:\n",
        "Use the `glob` module to list all python (.py) files in your current working directory.\n",
        "\n",
        "\n"
      ]
    },
    {
      "cell_type": "code",
      "execution_count": null,
      "id": "3e62d5b4",
      "metadata": {
        "id": "3e62d5b4"
      },
      "outputs": [],
      "source": [
        "#your code here\n",
        "import glob\n",
        "for pyfile in glob.glob(\"*.py\"):\n",
        "  print(pyfile)"
      ]
    },
    {
      "cell_type": "markdown",
      "id": "d266d698",
      "metadata": {
        "id": "d266d698"
      },
      "source": [
        "**CP4**: You are given the following HTML content below. Write a function that uses BeautifulSoup to parse the HTML and extract the text inside the   '$<p>$'   tag.\n"
      ]
    },
    {
      "cell_type": "code",
      "execution_count": null,
      "id": "27f941c8",
      "metadata": {
        "id": "27f941c8"
      },
      "outputs": [],
      "source": [
        "#<html><body><div class='main'><h1>Welcome to AI</h1><p>AI is transforming the world</p></div></body></html>"
      ]
    },
    {
      "cell_type": "code",
      "execution_count": null,
      "id": "6fb1cdcf",
      "metadata": {
        "id": "6fb1cdcf",
        "colab": {
          "base_uri": "https://localhost:8080/"
        },
        "outputId": "73d5ffec-c346-4efb-d0ca-60895c0ae32e"
      },
      "outputs": [
        {
          "output_type": "stream",
          "name": "stdout",
          "text": [
            "AI is transforming the world\n"
          ]
        }
      ],
      "source": [
        "#your code here\n",
        "text = \"<html><body><div class='main'><h1>Welcome to AI</h1><p>AI is transforming the world</p></div></body></html>\"\n",
        "from bs4 import BeautifulSoup\n",
        "soup = BeautifulSoup(text, 'html.parser')\n",
        "paragraphs = soup.find_all('p')\n",
        "for paragraph in paragraphs:\n",
        "  print(paragraph.text)"
      ]
    },
    {
      "cell_type": "markdown",
      "id": "a1fce3ef",
      "metadata": {
        "id": "a1fce3ef"
      },
      "source": [
        "**CP5**: Write a function that uses the re module to replace all occurrences of the word \"AI\" with \"Artificial Intelligence\" in a given text."
      ]
    },
    {
      "cell_type": "code",
      "execution_count": null,
      "id": "07178a2d",
      "metadata": {
        "id": "07178a2d",
        "colab": {
          "base_uri": "https://localhost:8080/"
        },
        "outputId": "4f85c7db-d195-4911-eb14-3f95fdef4a3f"
      },
      "outputs": [
        {
          "output_type": "stream",
          "name": "stdout",
          "text": [
            "Artificial Intelligence is very important technology\n"
          ]
        }
      ],
      "source": [
        "#your code here\n",
        "import re\n",
        "text = \"AI is very important technology\"\n",
        "replaced_text = re.sub(r'\\b{}\\b'.format(re.escape('AI')), \"Artificial Intelligence\", text)\n",
        "print(replaced_text)"
      ]
    },
    {
      "cell_type": "markdown",
      "id": "4e471de6",
      "metadata": {
        "id": "4e471de6"
      },
      "source": [
        "**CP6**: Create a numpy array of 10 zeros."
      ]
    },
    {
      "cell_type": "code",
      "execution_count": null,
      "id": "7f6e9acb",
      "metadata": {
        "id": "7f6e9acb",
        "colab": {
          "base_uri": "https://localhost:8080/"
        },
        "outputId": "fb217316-a2fd-42e5-fd1d-412c3046685d"
      },
      "outputs": [
        {
          "output_type": "execute_result",
          "data": {
            "text/plain": [
              "array([0., 0., 0., 0., 0., 0., 0., 0., 0., 0.])"
            ]
          },
          "metadata": {},
          "execution_count": 8
        }
      ],
      "source": [
        "#your code here\n",
        "import numpy as np\n",
        "matrix = np.zeros(10)\n",
        "matrix"
      ]
    },
    {
      "cell_type": "markdown",
      "id": "5f52a63e",
      "metadata": {
        "id": "5f52a63e"
      },
      "source": [
        "**CP7** Create a numpy array of the integers from 10 to 49."
      ]
    },
    {
      "cell_type": "code",
      "execution_count": null,
      "id": "ddb01e9a",
      "metadata": {
        "id": "ddb01e9a",
        "colab": {
          "base_uri": "https://localhost:8080/"
        },
        "outputId": "ae3c3642-22da-4637-f392-09383fec03dc"
      },
      "outputs": [
        {
          "output_type": "execute_result",
          "data": {
            "text/plain": [
              "array([10, 11, 12, 13, 14, 15, 16, 17, 18, 19, 20, 21, 22, 23, 24, 25, 26,\n",
              "       27, 28, 29, 30, 31, 32, 33, 34, 35, 36, 37, 38, 39, 40, 41, 42, 43,\n",
              "       44, 45, 46, 47, 48, 49])"
            ]
          },
          "metadata": {},
          "execution_count": 7
        }
      ],
      "source": [
        "#your code here\n",
        "import numpy as np\n",
        "matrix = np.arange(10, 49+1)\n",
        "matrix"
      ]
    },
    {
      "cell_type": "markdown",
      "id": "79e4d614",
      "metadata": {
        "id": "79e4d614"
      },
      "source": [
        "**CP8**: Create a 3x3 numpy matrix, filled with values ranging from 0 to 8."
      ]
    },
    {
      "cell_type": "code",
      "execution_count": null,
      "id": "d3eddea4",
      "metadata": {
        "id": "d3eddea4",
        "colab": {
          "base_uri": "https://localhost:8080/"
        },
        "outputId": "7bdb36d4-1478-480a-db45-b1296e98b2db"
      },
      "outputs": [
        {
          "output_type": "execute_result",
          "data": {
            "text/plain": [
              "array([[0, 1, 2],\n",
              "       [3, 4, 5],\n",
              "       [6, 7, 8]])"
            ]
          },
          "metadata": {},
          "execution_count": 5
        }
      ],
      "source": [
        "#your code here\n",
        "import numpy as np\n",
        "matrix = np.arange(9).reshape(3, 3)\n",
        "matrix"
      ]
    },
    {
      "cell_type": "markdown",
      "id": "1b09270f",
      "metadata": {
        "id": "1b09270f"
      },
      "source": [
        "**CP9**: Explain why machine learning models require large amounts of data? What does it mean for an amount of data to be **large**?"
      ]
    },
    {
      "cell_type": "markdown",
      "source": [
        "LLM(large language models) such as generetive AI needs a large amount of data.\n",
        "Large data mean:- the dataset we provide should be very large to make the ai work as expected."
      ],
      "metadata": {
        "id": "HuEUilATe0g6"
      },
      "id": "HuEUilATe0g6"
    },
    {
      "cell_type": "markdown",
      "id": "1a357bde",
      "metadata": {
        "id": "1a357bde"
      },
      "source": [
        "**CP10**: Explain 2 ways AI can be used in an adverserial way, and what can be done to prevent it."
      ]
    },
    {
      "cell_type": "markdown",
      "source": [
        "1, Attack - we can use AI to find the pattern and crack some sequences that many security things works. eg. mobile card.\n",
        "\n",
        "2, Deep fake - AI can act as some one or celebrities do something and may result in false information.\n",
        "\n",
        "there should have government involment and the colaboration between the companies should be needed."
      ],
      "metadata": {
        "id": "HcdDfmQCh4oj"
      },
      "id": "HcdDfmQCh4oj"
    }
  ],
  "metadata": {
    "kernelspec": {
      "display_name": "Python 3 (ipykernel)",
      "language": "python",
      "name": "python3"
    },
    "language_info": {
      "codemirror_mode": {
        "name": "ipython",
        "version": 3
      },
      "file_extension": ".py",
      "mimetype": "text/x-python",
      "name": "python",
      "nbconvert_exporter": "python",
      "pygments_lexer": "ipython3",
      "version": "3.8.2"
    },
    "varInspector": {
      "cols": {
        "lenName": 16,
        "lenType": 16,
        "lenVar": 40
      },
      "kernels_config": {
        "python": {
          "delete_cmd_postfix": "",
          "delete_cmd_prefix": "del ",
          "library": "var_list.py",
          "varRefreshCmd": "print(var_dic_list())"
        },
        "r": {
          "delete_cmd_postfix": ") ",
          "delete_cmd_prefix": "rm(",
          "library": "var_list.r",
          "varRefreshCmd": "cat(var_dic_list()) "
        }
      },
      "types_to_exclude": [
        "module",
        "function",
        "builtin_function_or_method",
        "instance",
        "_Feature"
      ],
      "window_display": false
    },
    "colab": {
      "provenance": [],
      "toc_visible": true,
      "include_colab_link": true
    }
  },
  "nbformat": 4,
  "nbformat_minor": 5
}